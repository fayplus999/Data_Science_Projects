{
 "cells": [
  {
   "cell_type": "code",
   "execution_count": 1,
   "metadata": {
    "collapsed": true
   },
   "outputs": [],
   "source": [
    "student_name = \"fei lynch\"\n",
    "student_id = \"44930062\""
   ]
  },
  {
   "cell_type": "code",
   "execution_count": 2,
   "metadata": {
    "collapsed": true
   },
   "outputs": [],
   "source": [
    "import pandas as pd\n",
    "import numpy as np\n",
    "import seaborn as sns\n",
    "%matplotlib inline\n",
    "import matplotlib.pyplot as plt\n",
    "import xml.etree.ElementTree as ET\n",
    "from geopy.distance import vincenty\n",
    "tree = ET.parse('race1.gpx')\n",
    "root = tree.getroot()"
   ]
  },
  {
   "cell_type": "code",
   "execution_count": 3,
   "metadata": {
    "collapsed": true
   },
   "outputs": [],
   "source": [
    "# define a namespace dictionary to make element names simpler\n",
    "# this mirrors the namespace definintions in the XML files\n",
    "ns = {'gpx':'http://www.topografix.com/GPX/1/1',\n",
    " 'gpxtpx': 'http://www.garmin.com/xmlschemas/TrackPointExtension/v1'}\n"
   ]
  },
  {
   "cell_type": "code",
   "execution_count": 4,
   "metadata": {
    "collapsed": true
   },
   "outputs": [],
   "source": [
    "# when we look for elements, we need to use the namespace prefix\n",
    "trk = root.find('gpx:trk', ns)\n",
    "trkseg = trk.find('gpx:trkseg', ns)"
   ]
  },
  {
   "cell_type": "code",
   "execution_count": 5,
   "metadata": {},
   "outputs": [
    {
     "data": {
      "text/plain": [
       "(6377, 9)"
      ]
     },
     "execution_count": 5,
     "metadata": {},
     "output_type": "execute_result"
    }
   ],
   "source": [
    "# iterate over the first ten trkpt elements - the children of trkseg\n",
    "data = []\n",
    "for trkpt in trkseg[:]:\n",
    " \n",
    " lon = trkpt.attrib['lon']\n",
    " lat = trkpt.attrib['lat']\n",
    " # get values from the child elements\n",
    " ele = trkpt.find('gpx:ele', ns).text\n",
    " time = trkpt.find('gpx:time', ns).text\n",
    " # now dive into the extensions\n",
    " ext = trkpt.find('gpx:extensions', ns)\n",
    " power = ext.find('gpx:power', ns).text\n",
    " tpext = ext.find('gpxtpx:TrackPointExtension', ns)\n",
    " temp = tpext.find('gpxtpx:atemp', ns).text\n",
    " hrext = ext.find('gpxtpx:TrackPointExtension', ns)\n",
    " heartrate = hrext.find('gpxtpx:hr', ns).text\n",
    " cadext = ext.find('gpxtpx:TrackPointExtension', ns)\n",
    " cadence = cadext.find('gpxtpx:cad',ns).text\n",
    "\n",
    " row = ['TS', lat, lon, ele, time, power, temp, heartrate, cadence]\n",
    " data.append(row)        \n",
    "\n",
    "\n",
    "race1_df = pd.DataFrame(data, columns = ['TS','lat', 'lon', 'ele','time','power','temp','heartrate', 'cadence',] )\n",
    "#race1_df.head()\n",
    "#race1_df.tail()\n",
    "race1_df.shape\n",
    " \n",
    "\n",
    " "
   ]
  },
  {
   "cell_type": "code",
   "execution_count": 6,
   "metadata": {},
   "outputs": [
    {
     "data": {
      "text/html": [
       "<div>\n",
       "<style>\n",
       "    .dataframe thead tr:only-child th {\n",
       "        text-align: right;\n",
       "    }\n",
       "\n",
       "    .dataframe thead th {\n",
       "        text-align: left;\n",
       "    }\n",
       "\n",
       "    .dataframe tbody tr th {\n",
       "        vertical-align: top;\n",
       "    }\n",
       "</style>\n",
       "<table border=\"1\" class=\"dataframe\">\n",
       "  <thead>\n",
       "    <tr style=\"text-align: right;\">\n",
       "      <th></th>\n",
       "      <th>TS</th>\n",
       "      <th>lat</th>\n",
       "      <th>lon</th>\n",
       "      <th>ele</th>\n",
       "      <th>time</th>\n",
       "      <th>power</th>\n",
       "      <th>temp</th>\n",
       "      <th>heartrate</th>\n",
       "      <th>cadence</th>\n",
       "      <th>distance</th>\n",
       "    </tr>\n",
       "  </thead>\n",
       "  <tbody>\n",
       "    <tr>\n",
       "      <th>0</th>\n",
       "      <td>TS</td>\n",
       "      <td>-33.8161780</td>\n",
       "      <td>150.8710320</td>\n",
       "      <td>73.0</td>\n",
       "      <td>2017-07-08T22:05:45Z</td>\n",
       "      <td>0</td>\n",
       "      <td>7</td>\n",
       "      <td>115</td>\n",
       "      <td>27</td>\n",
       "      <td>0.000000</td>\n",
       "    </tr>\n",
       "    <tr>\n",
       "      <th>1</th>\n",
       "      <td>TS</td>\n",
       "      <td>-33.8161500</td>\n",
       "      <td>150.8710350</td>\n",
       "      <td>73.0</td>\n",
       "      <td>2017-07-08T22:05:46Z</td>\n",
       "      <td>0</td>\n",
       "      <td>7</td>\n",
       "      <td>115</td>\n",
       "      <td>27</td>\n",
       "      <td>0.003118</td>\n",
       "    </tr>\n",
       "    <tr>\n",
       "      <th>2</th>\n",
       "      <td>TS</td>\n",
       "      <td>-33.8161170</td>\n",
       "      <td>150.8710440</td>\n",
       "      <td>73.0</td>\n",
       "      <td>2017-07-08T22:05:47Z</td>\n",
       "      <td>0</td>\n",
       "      <td>7</td>\n",
       "      <td>115</td>\n",
       "      <td>27</td>\n",
       "      <td>0.003754</td>\n",
       "    </tr>\n",
       "    <tr>\n",
       "      <th>3</th>\n",
       "      <td>TS</td>\n",
       "      <td>-33.8160820</td>\n",
       "      <td>150.8710540</td>\n",
       "      <td>73.0</td>\n",
       "      <td>2017-07-08T22:05:48Z</td>\n",
       "      <td>0</td>\n",
       "      <td>7</td>\n",
       "      <td>115</td>\n",
       "      <td>27</td>\n",
       "      <td>0.003991</td>\n",
       "    </tr>\n",
       "    <tr>\n",
       "      <th>4</th>\n",
       "      <td>TS</td>\n",
       "      <td>-33.8160430</td>\n",
       "      <td>150.8710690</td>\n",
       "      <td>73.0</td>\n",
       "      <td>2017-07-08T22:05:49Z</td>\n",
       "      <td>197</td>\n",
       "      <td>7</td>\n",
       "      <td>115</td>\n",
       "      <td>27</td>\n",
       "      <td>0.004543</td>\n",
       "    </tr>\n",
       "  </tbody>\n",
       "</table>\n",
       "</div>"
      ],
      "text/plain": [
       "   TS          lat          lon   ele                  time power temp  \\\n",
       "0  TS  -33.8161780  150.8710320  73.0  2017-07-08T22:05:45Z     0    7   \n",
       "1  TS  -33.8161500  150.8710350  73.0  2017-07-08T22:05:46Z     0    7   \n",
       "2  TS  -33.8161170  150.8710440  73.0  2017-07-08T22:05:47Z     0    7   \n",
       "3  TS  -33.8160820  150.8710540  73.0  2017-07-08T22:05:48Z     0    7   \n",
       "4  TS  -33.8160430  150.8710690  73.0  2017-07-08T22:05:49Z   197    7   \n",
       "\n",
       "  heartrate cadence  distance  \n",
       "0       115      27  0.000000  \n",
       "1       115      27  0.003118  \n",
       "2       115      27  0.003754  \n",
       "3       115      27  0.003991  \n",
       "4       115      27  0.004543  "
      ]
     },
     "execution_count": 6,
     "metadata": {},
     "output_type": "execute_result"
    }
   ],
   "source": [
    "#  the last point - initialise to the value from the first row of the dataframe\n",
    "lastrow = race1_df.iloc[0]\n",
    "row = race1_df.iloc[1]\n",
    "\n",
    "#  create a list of elevation differences, initialise to the empty list\n",
    "ediffs = []\n",
    "# iterate over the rows in the data frame using iterrows\n",
    "for index, row in race1_df.iterrows():\n",
    "   \n",
    "    start = (lastrow['lat'], lastrow['lon'])\n",
    "    end = (row['lat'], row['lon'])\n",
    "    distance = vincenty(start, end).km\n",
    "    # append to our list\n",
    "    ediffs.append(distance)\n",
    "    # update the last variable\n",
    "    lastrow = row  \n",
    "\n",
    "race1_df['distance'] = pd.DataFrame(ediffs, columns = ['distance'])\n",
    "race1_df.head()"
   ]
  },
  {
   "cell_type": "code",
   "execution_count": 7,
   "metadata": {
    "collapsed": true
   },
   "outputs": [],
   "source": [
    "## as we can see the time interval is 1 second, therefore speed is same as distance\n",
    "race1_df['speed'] = pd.DataFrame(ediffs, columns = ['distance'])"
   ]
  },
  {
   "cell_type": "code",
   "execution_count": 8,
   "metadata": {},
   "outputs": [
    {
     "data": {
      "text/html": [
       "<div>\n",
       "<style>\n",
       "    .dataframe thead tr:only-child th {\n",
       "        text-align: right;\n",
       "    }\n",
       "\n",
       "    .dataframe thead th {\n",
       "        text-align: left;\n",
       "    }\n",
       "\n",
       "    .dataframe tbody tr th {\n",
       "        vertical-align: top;\n",
       "    }\n",
       "</style>\n",
       "<table border=\"1\" class=\"dataframe\">\n",
       "  <thead>\n",
       "    <tr style=\"text-align: right;\">\n",
       "      <th></th>\n",
       "      <th>TS</th>\n",
       "      <th>lat</th>\n",
       "      <th>lon</th>\n",
       "      <th>ele</th>\n",
       "      <th>time</th>\n",
       "      <th>power</th>\n",
       "      <th>temp</th>\n",
       "      <th>heartrate</th>\n",
       "      <th>cadence</th>\n",
       "      <th>distance</th>\n",
       "      <th>speed</th>\n",
       "    </tr>\n",
       "  </thead>\n",
       "  <tbody>\n",
       "    <tr>\n",
       "      <th>0</th>\n",
       "      <td>TS</td>\n",
       "      <td>-33.8161780</td>\n",
       "      <td>150.8710320</td>\n",
       "      <td>73.0</td>\n",
       "      <td>2017-07-08T22:05:45Z</td>\n",
       "      <td>0</td>\n",
       "      <td>7</td>\n",
       "      <td>115</td>\n",
       "      <td>27</td>\n",
       "      <td>0.000000</td>\n",
       "      <td>0.000000</td>\n",
       "    </tr>\n",
       "    <tr>\n",
       "      <th>1</th>\n",
       "      <td>TS</td>\n",
       "      <td>-33.8161500</td>\n",
       "      <td>150.8710350</td>\n",
       "      <td>73.0</td>\n",
       "      <td>2017-07-08T22:05:46Z</td>\n",
       "      <td>0</td>\n",
       "      <td>7</td>\n",
       "      <td>115</td>\n",
       "      <td>27</td>\n",
       "      <td>0.003118</td>\n",
       "      <td>0.003118</td>\n",
       "    </tr>\n",
       "    <tr>\n",
       "      <th>2</th>\n",
       "      <td>TS</td>\n",
       "      <td>-33.8161170</td>\n",
       "      <td>150.8710440</td>\n",
       "      <td>73.0</td>\n",
       "      <td>2017-07-08T22:05:47Z</td>\n",
       "      <td>0</td>\n",
       "      <td>7</td>\n",
       "      <td>115</td>\n",
       "      <td>27</td>\n",
       "      <td>0.003754</td>\n",
       "      <td>0.003754</td>\n",
       "    </tr>\n",
       "    <tr>\n",
       "      <th>3</th>\n",
       "      <td>TS</td>\n",
       "      <td>-33.8160820</td>\n",
       "      <td>150.8710540</td>\n",
       "      <td>73.0</td>\n",
       "      <td>2017-07-08T22:05:48Z</td>\n",
       "      <td>0</td>\n",
       "      <td>7</td>\n",
       "      <td>115</td>\n",
       "      <td>27</td>\n",
       "      <td>0.003991</td>\n",
       "      <td>0.003991</td>\n",
       "    </tr>\n",
       "    <tr>\n",
       "      <th>4</th>\n",
       "      <td>TS</td>\n",
       "      <td>-33.8160430</td>\n",
       "      <td>150.8710690</td>\n",
       "      <td>73.0</td>\n",
       "      <td>2017-07-08T22:05:49Z</td>\n",
       "      <td>197</td>\n",
       "      <td>7</td>\n",
       "      <td>115</td>\n",
       "      <td>27</td>\n",
       "      <td>0.004543</td>\n",
       "      <td>0.004543</td>\n",
       "    </tr>\n",
       "  </tbody>\n",
       "</table>\n",
       "</div>"
      ],
      "text/plain": [
       "   TS          lat          lon   ele                  time power temp  \\\n",
       "0  TS  -33.8161780  150.8710320  73.0  2017-07-08T22:05:45Z     0    7   \n",
       "1  TS  -33.8161500  150.8710350  73.0  2017-07-08T22:05:46Z     0    7   \n",
       "2  TS  -33.8161170  150.8710440  73.0  2017-07-08T22:05:47Z     0    7   \n",
       "3  TS  -33.8160820  150.8710540  73.0  2017-07-08T22:05:48Z     0    7   \n",
       "4  TS  -33.8160430  150.8710690  73.0  2017-07-08T22:05:49Z   197    7   \n",
       "\n",
       "  heartrate cadence  distance     speed  \n",
       "0       115      27  0.000000  0.000000  \n",
       "1       115      27  0.003118  0.003118  \n",
       "2       115      27  0.003754  0.003754  \n",
       "3       115      27  0.003991  0.003991  \n",
       "4       115      27  0.004543  0.004543  "
      ]
     },
     "execution_count": 8,
     "metadata": {},
     "output_type": "execute_result"
    }
   ],
   "source": [
    "race1_df.head()"
   ]
  },
  {
   "cell_type": "code",
   "execution_count": 9,
   "metadata": {},
   "outputs": [
    {
     "data": {
      "text/plain": [
       "64.68822678337318"
      ]
     },
     "execution_count": 9,
     "metadata": {},
     "output_type": "execute_result"
    }
   ],
   "source": [
    "race1_df.distance.sum()"
   ]
  },
  {
   "cell_type": "code",
   "execution_count": 10,
   "metadata": {},
   "outputs": [
    {
     "data": {
      "text/plain": [
       "Timedelta('0 days 01:46:22')"
      ]
     },
     "execution_count": 10,
     "metadata": {},
     "output_type": "execute_result"
    }
   ],
   "source": [
    "# converted time series\n",
    "race1_df['time'] = pd.to_datetime(race1_df.time)\n",
    "race1_df['time'].max()-race1_df['time'].min()"
   ]
  },
  {
   "cell_type": "code",
   "execution_count": 16,
   "metadata": {},
   "outputs": [],
   "source": [
    "# speed over the track is total distance(64.68822678337318)/total time(01:46:22=1.773 hours)\n",
    "racel1_Avespeed = 64.69/1.773\n",
    "#print(race1_Avespeed)"
   ]
  },
  {
   "cell_type": "markdown",
   "metadata": {},
   "source": [
    "##  the average speed of the rider1 is 36.5km/hour"
   ]
  },
  {
   "cell_type": "markdown",
   "metadata": {},
   "source": [
    "## Plot histograms showing the distribution of speed, heart rate and power over the course of the ride, work out std, mean, median for each data set then plot distribution graph.\n"
   ]
  },
  {
   "cell_type": "code",
   "execution_count": 17,
   "metadata": {},
   "outputs": [
    {
     "data": {
      "text/plain": [
       "count    6377.000000\n",
       "mean        0.010144\n",
       "std         0.001421\n",
       "min         0.000000\n",
       "25%         0.009316\n",
       "50%         0.009990\n",
       "75%         0.010816\n",
       "max         0.036737\n",
       "Name: speed, dtype: float64"
      ]
     },
     "execution_count": 17,
     "metadata": {},
     "output_type": "execute_result"
    }
   ],
   "source": [
    "speed = pd.Series(race1_df['speed'])\n",
    "speed = speed.astype(float)\n",
    "speed.describe()"
   ]
  },
  {
   "cell_type": "code",
   "execution_count": 18,
   "metadata": {},
   "outputs": [
    {
     "data": {
      "text/plain": [
       "0.010165256882318801"
      ]
     },
     "execution_count": 18,
     "metadata": {},
     "output_type": "execute_result"
    }
   ],
   "source": [
    "speed = np.random.normal(0.010144,0.001421, 6377 )\n",
    "np.mean(speed)"
   ]
  },
  {
   "cell_type": "code",
   "execution_count": 19,
   "metadata": {},
   "outputs": [
    {
     "data": {
      "text/plain": [
       "<function matplotlib.pyplot.show>"
      ]
     },
     "execution_count": 19,
     "metadata": {},
     "output_type": "execute_result"
    },
    {
     "data": {
      "image/png": "[encoded data removed]",
      "text/plain": [
       "<matplotlib.figure.Figure at 0x115058e80>"
      ]
     },
     "metadata": {},
     "output_type": "display_data"
    }
   ],
   "source": [
    "plt.figure()\n",
    "plt.title('distribution of speed')\n",
    "plt.hist(speed, 50)\n",
    "plt.show"
   ]
  },
  {
   "cell_type": "code",
   "execution_count": 21,
   "metadata": {},
   "outputs": [
    {
     "data": {
      "text/plain": [
       "count    6377.000000\n",
       "mean      157.167790\n",
       "std        17.190663\n",
       "min       108.000000\n",
       "25%       148.000000\n",
       "50%       154.000000\n",
       "75%       160.000000\n",
       "max       236.000000\n",
       "Name: heartrate, dtype: float64"
      ]
     },
     "execution_count": 21,
     "metadata": {},
     "output_type": "execute_result"
    }
   ],
   "source": [
    "#distribution of heartrate\n",
    "hr = pd.Series(race1_df['heartrate'])\n",
    "hr = hr.astype(float)\n",
    "hr.describe()"
   ]
  },
  {
   "cell_type": "code",
   "execution_count": 22,
   "metadata": {},
   "outputs": [
    {
     "data": {
      "text/plain": [
       "156.9211012185402"
      ]
     },
     "execution_count": 22,
     "metadata": {},
     "output_type": "execute_result"
    }
   ],
   "source": [
    "heartrate = np.random.normal(157.167790,17.190663, 6377 )\n",
    "np.mean(heartrate)"
   ]
  },
  {
   "cell_type": "code",
   "execution_count": 23,
   "metadata": {},
   "outputs": [
    {
     "data": {
      "text/plain": [
       "<function matplotlib.pyplot.show>"
      ]
     },
     "execution_count": 23,
     "metadata": {},
     "output_type": "execute_result"
    },
    {
     "data": {
      "image/png": "[encoded data removed]",
      "text/plain": [
       "<matplotlib.figure.Figure at 0x1186e40f0>"
      ]
     },
     "metadata": {},
     "output_type": "display_data"
    }
   ],
   "source": [
    "plt.figure()\n",
    "plt.title('distribution of heartrate')\n",
    "plt.hist(heartrate, 50)\n",
    "plt.show"
   ]
  },
  {
   "cell_type": "code",
   "execution_count": 24,
   "metadata": {},
   "outputs": [
    {
     "data": {
      "text/plain": [
       "count    6377.000000\n",
       "mean      216.071193\n",
       "std       165.784207\n",
       "min         0.000000\n",
       "25%        82.000000\n",
       "50%       214.000000\n",
       "75%       304.000000\n",
       "max       825.000000\n",
       "Name: power, dtype: float64"
      ]
     },
     "execution_count": 24,
     "metadata": {},
     "output_type": "execute_result"
    }
   ],
   "source": [
    "#distribution of power\n",
    "p = pd.Series(race1_df['power'])\n",
    "p = p.astype(float)\n",
    "p.describe()"
   ]
  },
  {
   "cell_type": "code",
   "execution_count": 25,
   "metadata": {},
   "outputs": [
    {
     "data": {
      "text/plain": [
       "216.93310616068621"
      ]
     },
     "execution_count": 25,
     "metadata": {},
     "output_type": "execute_result"
    }
   ],
   "source": [
    "power = np.random.normal(216.071193,165.784207, 6377 )\n",
    "np.mean(power)"
   ]
  },
  {
   "cell_type": "code",
   "execution_count": 26,
   "metadata": {},
   "outputs": [
    {
     "data": {
      "text/plain": [
       "<function matplotlib.pyplot.show>"
      ]
     },
     "execution_count": 26,
     "metadata": {},
     "output_type": "execute_result"
    },
    {
     "data": {
      "image/png": "[encoded data removed]",
      "text/plain": [
       "<matplotlib.figure.Figure at 0x115058a90>"
      ]
     },
     "metadata": {},
     "output_type": "display_data"
    }
   ],
   "source": [
    "plt.figure()\n",
    "plt.title('distribution of power')\n",
    "plt.hist(power, 50)\n",
    "plt.show"
   ]
  },
  {
   "cell_type": "markdown",
   "metadata": {},
   "source": [
    "## Plot power vs speed and power vs heart rate "
   ]
  },
  {
   "cell_type": "code",
   "execution_count": 27,
   "metadata": {},
   "outputs": [
    {
     "data": {
      "text/html": [
       "<div>\n",
       "<style>\n",
       "    .dataframe thead tr:only-child th {\n",
       "        text-align: right;\n",
       "    }\n",
       "\n",
       "    .dataframe thead th {\n",
       "        text-align: left;\n",
       "    }\n",
       "\n",
       "    .dataframe tbody tr th {\n",
       "        vertical-align: top;\n",
       "    }\n",
       "</style>\n",
       "<table border=\"1\" class=\"dataframe\">\n",
       "  <thead>\n",
       "    <tr style=\"text-align: right;\">\n",
       "      <th></th>\n",
       "      <th>TS</th>\n",
       "      <th>lat</th>\n",
       "      <th>lon</th>\n",
       "      <th>ele</th>\n",
       "      <th>time</th>\n",
       "      <th>power</th>\n",
       "      <th>temp</th>\n",
       "      <th>heartrate</th>\n",
       "      <th>cadence</th>\n",
       "      <th>distance</th>\n",
       "      <th>speed</th>\n",
       "    </tr>\n",
       "  </thead>\n",
       "  <tbody>\n",
       "    <tr>\n",
       "      <th>0</th>\n",
       "      <td>TS</td>\n",
       "      <td>-33.8161780</td>\n",
       "      <td>150.8710320</td>\n",
       "      <td>73.0</td>\n",
       "      <td>2017-07-08 22:05:45</td>\n",
       "      <td>0</td>\n",
       "      <td>7</td>\n",
       "      <td>115</td>\n",
       "      <td>27</td>\n",
       "      <td>0.000000</td>\n",
       "      <td>0.000000</td>\n",
       "    </tr>\n",
       "    <tr>\n",
       "      <th>1</th>\n",
       "      <td>TS</td>\n",
       "      <td>-33.8161500</td>\n",
       "      <td>150.8710350</td>\n",
       "      <td>73.0</td>\n",
       "      <td>2017-07-08 22:05:46</td>\n",
       "      <td>0</td>\n",
       "      <td>7</td>\n",
       "      <td>115</td>\n",
       "      <td>27</td>\n",
       "      <td>0.003118</td>\n",
       "      <td>0.003118</td>\n",
       "    </tr>\n",
       "    <tr>\n",
       "      <th>2</th>\n",
       "      <td>TS</td>\n",
       "      <td>-33.8161170</td>\n",
       "      <td>150.8710440</td>\n",
       "      <td>73.0</td>\n",
       "      <td>2017-07-08 22:05:47</td>\n",
       "      <td>0</td>\n",
       "      <td>7</td>\n",
       "      <td>115</td>\n",
       "      <td>27</td>\n",
       "      <td>0.003754</td>\n",
       "      <td>0.003754</td>\n",
       "    </tr>\n",
       "    <tr>\n",
       "      <th>3</th>\n",
       "      <td>TS</td>\n",
       "      <td>-33.8160820</td>\n",
       "      <td>150.8710540</td>\n",
       "      <td>73.0</td>\n",
       "      <td>2017-07-08 22:05:48</td>\n",
       "      <td>0</td>\n",
       "      <td>7</td>\n",
       "      <td>115</td>\n",
       "      <td>27</td>\n",
       "      <td>0.003991</td>\n",
       "      <td>0.003991</td>\n",
       "    </tr>\n",
       "    <tr>\n",
       "      <th>4</th>\n",
       "      <td>TS</td>\n",
       "      <td>-33.8160430</td>\n",
       "      <td>150.8710690</td>\n",
       "      <td>73.0</td>\n",
       "      <td>2017-07-08 22:05:49</td>\n",
       "      <td>197</td>\n",
       "      <td>7</td>\n",
       "      <td>115</td>\n",
       "      <td>27</td>\n",
       "      <td>0.004543</td>\n",
       "      <td>0.004543</td>\n",
       "    </tr>\n",
       "  </tbody>\n",
       "</table>\n",
       "</div>"
      ],
      "text/plain": [
       "   TS          lat          lon   ele                time power temp  \\\n",
       "0  TS  -33.8161780  150.8710320  73.0 2017-07-08 22:05:45     0    7   \n",
       "1  TS  -33.8161500  150.8710350  73.0 2017-07-08 22:05:46     0    7   \n",
       "2  TS  -33.8161170  150.8710440  73.0 2017-07-08 22:05:47     0    7   \n",
       "3  TS  -33.8160820  150.8710540  73.0 2017-07-08 22:05:48     0    7   \n",
       "4  TS  -33.8160430  150.8710690  73.0 2017-07-08 22:05:49   197    7   \n",
       "\n",
       "  heartrate cadence  distance     speed  \n",
       "0       115      27  0.000000  0.000000  \n",
       "1       115      27  0.003118  0.003118  \n",
       "2       115      27  0.003754  0.003754  \n",
       "3       115      27  0.003991  0.003991  \n",
       "4       115      27  0.004543  0.004543  "
      ]
     },
     "execution_count": 27,
     "metadata": {},
     "output_type": "execute_result"
    }
   ],
   "source": [
    "race1_df.head()"
   ]
  },
  {
   "cell_type": "code",
   "execution_count": 28,
   "metadata": {},
   "outputs": [
    {
     "data": {
      "image/png": "[encoded data removed]",
      "text/plain": [
       "<matplotlib.figure.Figure at 0x118ac37b8>"
      ]
     },
     "metadata": {},
     "output_type": "display_data"
    },
    {
     "data": {
      "image/png": "[encoded data removed]",
      "text/plain": [
       "<matplotlib.figure.Figure at 0x118b5e198>"
      ]
     },
     "metadata": {},
     "output_type": "display_data"
    }
   ],
   "source": [
    "plt.title('Power vs Speed')\n",
    "x=race1_df['power']\n",
    "y=race1_df['speed']\n",
    "plt.scatter(x=race1_df['power'],y=race1_df['speed'], s=50)\n",
    "plt.show()\n",
    "\n",
    "\n",
    "plt.title('Power vs Heart_rate')\n",
    "plt.scatter(x=race1_df['power'],y=race1_df['heartrate'], s=50)\n",
    "plt.show()"
   ]
  },
  {
   "cell_type": "code",
   "execution_count": 29,
   "metadata": {},
   "outputs": [
    {
     "data": {
      "image/png": "[encoded data removed]",
      "text/plain": [
       "<matplotlib.figure.Figure at 0x118d42710>"
      ]
     },
     "metadata": {},
     "output_type": "display_data"
    }
   ],
   "source": [
    "#Log_Transformed Power Vs Speed\n",
    "fig = plt.figure()\n",
    "plt.title('Log_Transformed Power Vs Speed')\n",
    "ax = plt.gca()\n",
    "ax.plot(race1_df['power'] ,race1_df['speed'], 'o', c='blue', alpha=3, markeredgecolor='none')\n",
    "ax.set_yscale('log')\n",
    "ax.set_xscale('log')"
   ]
  },
  {
   "cell_type": "markdown",
   "metadata": {},
   "source": [
    "## from graph 'Log_Transformed Power Vs Speed' we can clearly see power is increasing as speed is oscillating around  0.01 with a few big outliers,  it may be because you are riding up and down hills, it may also explain the graph'Power vs Heart_rate', as power is increasing and only 2/3 of the heart rate data increases while 1/3 heart rate data remains between 140-160, this may be explained due to downhill riding causing lower heart rates while accouting for increases in power.\n"
   ]
  },
  {
   "cell_type": "markdown",
   "metadata": {},
   "source": [
    "## How many laps did the rider complete in the race?\n",
    "## Answer: Counting the graph below there are 18 laps the rider completes."
   ]
  },
  {
   "cell_type": "code",
   "execution_count": 30,
   "metadata": {},
   "outputs": [
    {
     "data": {
      "image/png": "[encoded data removed]",
      "text/plain": [
       "<matplotlib.figure.Figure at 0x118a9da90>"
      ]
     },
     "metadata": {},
     "output_type": "display_data"
    }
   ],
   "source": [
    "firstrow = race1_df.iloc[0]\n",
    "row = race1_df.iloc[1]\n",
    "\n",
    "#  create a list of elevation differences, initialise to the empty list\n",
    "ediffs = []\n",
    "# iterate over the rows in the data frame using iterrows\n",
    "for index, row in race1_df.iterrows():\n",
    "   \n",
    "    start = (firstrow['lat'], firstrow['lon'])\n",
    "    end = (row['lat'], row['lon'])\n",
    "    distance = vincenty(start, end).km\n",
    "    # append to our list\n",
    "    ediffs.append(distance)\n",
    "    # update the last variable\n",
    "    lastrow = row  \n",
    "\n",
    "race1_df['distance'] = pd.DataFrame(ediffs, columns = ['distance'])\n",
    "race1_df.head()\n",
    "\n",
    "plt.figure()\n",
    "plt.title('number of laps')\n",
    "plt.plot(race1_df.distance,'ko-')\n",
    "plt.show()"
   ]
  },
  {
   "cell_type": "markdown",
   "metadata": {},
   "source": [
    "## find the average speed of the rider in race2"
   ]
  },
  {
   "cell_type": "code",
   "execution_count": 31,
   "metadata": {
    "collapsed": true
   },
   "outputs": [],
   "source": [
    "tree = ET.parse('race2.gpx')\n",
    "root = tree.getroot()"
   ]
  },
  {
   "cell_type": "code",
   "execution_count": 32,
   "metadata": {
    "collapsed": true
   },
   "outputs": [],
   "source": [
    "ns = {'gpx':'http://www.topografix.com/GPX/1/1',\n",
    " 'gpxtpx': 'http://www.garmin.com/xmlschemas/TrackPointExtension/v1'}"
   ]
  },
  {
   "cell_type": "code",
   "execution_count": 33,
   "metadata": {
    "collapsed": true
   },
   "outputs": [],
   "source": [
    "trk = root.find('gpx:trk', ns)\n",
    "trkseg = trk.find('gpx:trkseg', ns)"
   ]
  },
  {
   "cell_type": "code",
   "execution_count": 34,
   "metadata": {},
   "outputs": [
    {
     "data": {
      "text/html": [
       "<div>\n",
       "<style>\n",
       "    .dataframe thead tr:only-child th {\n",
       "        text-align: right;\n",
       "    }\n",
       "\n",
       "    .dataframe thead th {\n",
       "        text-align: left;\n",
       "    }\n",
       "\n",
       "    .dataframe tbody tr th {\n",
       "        vertical-align: top;\n",
       "    }\n",
       "</style>\n",
       "<table border=\"1\" class=\"dataframe\">\n",
       "  <thead>\n",
       "    <tr style=\"text-align: right;\">\n",
       "      <th></th>\n",
       "      <th>TS</th>\n",
       "      <th>lat</th>\n",
       "      <th>lon</th>\n",
       "      <th>ele</th>\n",
       "    </tr>\n",
       "  </thead>\n",
       "  <tbody>\n",
       "    <tr>\n",
       "      <th>0</th>\n",
       "      <td>TS</td>\n",
       "      <td>-33.8162190</td>\n",
       "      <td>150.8710120</td>\n",
       "      <td>60.6</td>\n",
       "    </tr>\n",
       "    <tr>\n",
       "      <th>1</th>\n",
       "      <td>TS</td>\n",
       "      <td>-33.8161820</td>\n",
       "      <td>150.8710190</td>\n",
       "      <td>60.6</td>\n",
       "    </tr>\n",
       "    <tr>\n",
       "      <th>2</th>\n",
       "      <td>TS</td>\n",
       "      <td>-33.8161590</td>\n",
       "      <td>150.8710270</td>\n",
       "      <td>60.8</td>\n",
       "    </tr>\n",
       "    <tr>\n",
       "      <th>3</th>\n",
       "      <td>TS</td>\n",
       "      <td>-33.8161350</td>\n",
       "      <td>150.8710380</td>\n",
       "      <td>61.0</td>\n",
       "    </tr>\n",
       "    <tr>\n",
       "      <th>4</th>\n",
       "      <td>TS</td>\n",
       "      <td>-33.8161060</td>\n",
       "      <td>150.8710510</td>\n",
       "      <td>60.8</td>\n",
       "    </tr>\n",
       "  </tbody>\n",
       "</table>\n",
       "</div>"
      ],
      "text/plain": [
       "   TS          lat          lon   ele\n",
       "0  TS  -33.8162190  150.8710120  60.6\n",
       "1  TS  -33.8161820  150.8710190  60.6\n",
       "2  TS  -33.8161590  150.8710270  60.8\n",
       "3  TS  -33.8161350  150.8710380  61.0\n",
       "4  TS  -33.8161060  150.8710510  60.8"
      ]
     },
     "execution_count": 34,
     "metadata": {},
     "output_type": "execute_result"
    }
   ],
   "source": [
    "data = []\n",
    "for trkpt in trkseg[:]:\n",
    " trkseg = trk.find('gpx:trkseg', ns)\n",
    " lon = trkpt.attrib['lon']\n",
    " lat = trkpt.attrib['lat']\n",
    " ele = trkpt.find('gpx:ele', ns).text\n",
    " row = ['TS', lat, lon, ele]\n",
    " data.append(row)        \n",
    "\n",
    "race2_df = pd.DataFrame(data, columns = ['TS','lat', 'lon', 'ele'] )\n",
    "race2_df.head()"
   ]
  },
  {
   "cell_type": "code",
   "execution_count": 35,
   "metadata": {},
   "outputs": [
    {
     "data": {
      "text/html": [
       "<div>\n",
       "<style>\n",
       "    .dataframe thead tr:only-child th {\n",
       "        text-align: right;\n",
       "    }\n",
       "\n",
       "    .dataframe thead th {\n",
       "        text-align: left;\n",
       "    }\n",
       "\n",
       "    .dataframe tbody tr th {\n",
       "        vertical-align: top;\n",
       "    }\n",
       "</style>\n",
       "<table border=\"1\" class=\"dataframe\">\n",
       "  <thead>\n",
       "    <tr style=\"text-align: right;\">\n",
       "      <th></th>\n",
       "      <th>TS</th>\n",
       "      <th>lat</th>\n",
       "      <th>lon</th>\n",
       "      <th>ele</th>\n",
       "      <th>distance</th>\n",
       "    </tr>\n",
       "  </thead>\n",
       "  <tbody>\n",
       "    <tr>\n",
       "      <th>0</th>\n",
       "      <td>TS</td>\n",
       "      <td>-33.8162190</td>\n",
       "      <td>150.8710120</td>\n",
       "      <td>60.6</td>\n",
       "      <td>0.000000</td>\n",
       "    </tr>\n",
       "    <tr>\n",
       "      <th>1</th>\n",
       "      <td>TS</td>\n",
       "      <td>-33.8161820</td>\n",
       "      <td>150.8710190</td>\n",
       "      <td>60.6</td>\n",
       "      <td>0.004155</td>\n",
       "    </tr>\n",
       "    <tr>\n",
       "      <th>2</th>\n",
       "      <td>TS</td>\n",
       "      <td>-33.8161590</td>\n",
       "      <td>150.8710270</td>\n",
       "      <td>60.8</td>\n",
       "      <td>0.002656</td>\n",
       "    </tr>\n",
       "    <tr>\n",
       "      <th>3</th>\n",
       "      <td>TS</td>\n",
       "      <td>-33.8161350</td>\n",
       "      <td>150.8710380</td>\n",
       "      <td>61.0</td>\n",
       "      <td>0.002850</td>\n",
       "    </tr>\n",
       "    <tr>\n",
       "      <th>4</th>\n",
       "      <td>TS</td>\n",
       "      <td>-33.8161060</td>\n",
       "      <td>150.8710510</td>\n",
       "      <td>60.8</td>\n",
       "      <td>0.003434</td>\n",
       "    </tr>\n",
       "  </tbody>\n",
       "</table>\n",
       "</div>"
      ],
      "text/plain": [
       "   TS          lat          lon   ele  distance\n",
       "0  TS  -33.8162190  150.8710120  60.6  0.000000\n",
       "1  TS  -33.8161820  150.8710190  60.6  0.004155\n",
       "2  TS  -33.8161590  150.8710270  60.8  0.002656\n",
       "3  TS  -33.8161350  150.8710380  61.0  0.002850\n",
       "4  TS  -33.8161060  150.8710510  60.8  0.003434"
      ]
     },
     "execution_count": 35,
     "metadata": {},
     "output_type": "execute_result"
    }
   ],
   "source": [
    "#  the last point - initialise to the value from the first row of the dataframe\n",
    "lastrow = race2_df.iloc[0]\n",
    "row = race2_df.iloc[1]\n",
    "\n",
    "#  create a list of elevation differences, initialise to the empty list\n",
    "ediffs = []\n",
    "# iterate over the rows in the data frame using iterrows\n",
    "for index, row in race2_df.iterrows():\n",
    "   \n",
    "    start = (lastrow['lat'], lastrow['lon'])\n",
    "    end = (row['lat'], row['lon'])\n",
    "    distance = vincenty(start, end).km\n",
    "    # append to our list\n",
    "    ediffs.append(distance)\n",
    "    # update the last variable\n",
    "    lastrow = row  \n",
    "\n",
    "race2_df['distance'] = pd.DataFrame(ediffs, columns = ['distance'])\n",
    "race2_df.head()"
   ]
  },
  {
   "cell_type": "code",
   "execution_count": 36,
   "metadata": {},
   "outputs": [
    {
     "data": {
      "text/plain": [
       "(6896, 5)"
      ]
     },
     "execution_count": 36,
     "metadata": {},
     "output_type": "execute_result"
    }
   ],
   "source": [
    "race2_df.shape"
   ]
  },
  {
   "cell_type": "code",
   "execution_count": 37,
   "metadata": {},
   "outputs": [
    {
     "data": {
      "text/plain": [
       "71.95209967514933"
      ]
     },
     "execution_count": 37,
     "metadata": {},
     "output_type": "execute_result"
    }
   ],
   "source": [
    "race2_df.distance.sum()"
   ]
  },
  {
   "cell_type": "code",
   "execution_count": 38,
   "metadata": {},
   "outputs": [
    {
     "data": {
      "image/png": "[encoded data removed]",
      "text/plain": [
       "<matplotlib.figure.Figure at 0x118a9d0f0>"
      ]
     },
     "metadata": {},
     "output_type": "display_data"
    }
   ],
   "source": [
    "firstrow = race2_df.iloc[0]\n",
    "row = race2_df.iloc[1]\n",
    "\n",
    "#  create a list of elevation differences, initialise to the empty list\n",
    "ediffs = []\n",
    "# iterate over the rows in the data frame using iterrows\n",
    "for index, row in race2_df.iterrows():\n",
    "   \n",
    "    start = (firstrow['lat'], firstrow['lon'])\n",
    "    end = (row['lat'], row['lon'])\n",
    "    distance = vincenty(start, end).km\n",
    "    # append to our list\n",
    "    ediffs.append(distance)\n",
    "    # update the last variable\n",
    "    lastrow = row  \n",
    "\n",
    "race2_df['distance'] = pd.DataFrame(ediffs, columns = ['distance'])\n",
    "race2_df.head()\n",
    "\n",
    "plt.figure()\n",
    "plt.title('number of laps')\n",
    "plt.plot(race2_df.distance,'ko-')\n",
    "plt.show()"
   ]
  },
  {
   "cell_type": "markdown",
   "metadata": {},
   "source": [
    "## Second rider complete 20 laps"
   ]
  },
  {
   "cell_type": "markdown",
   "metadata": {},
   "source": [
    "## assumption: assume both riders take the same amount of time to complete the race, rider2 is faster than rider1, because rider2 is riding 20 laps equal to 72km, while at the same time rider1 only completes 18 laps totalling 65km."
   ]
  },
  {
   "cell_type": "code",
   "execution_count": 39,
   "metadata": {},
   "outputs": [
    {
     "name": "stdout",
     "output_type": "stream",
     "text": [
      "40.609137055837564\n"
     ]
    }
   ],
   "source": [
    "## race1_speed = 64.68822678337318/1.773 = \n",
    "racel2_Avespeed = 72/1.773\n",
    "print(racel2_Avespeed )"
   ]
  },
  {
   "cell_type": "markdown",
   "metadata": {},
   "source": [
    "# the average speed of the rider1 is 36.5km/hour\n",
    "# the average speed of the rider2 is 40.6km/hour\n",
    "# the rider2 is 4.1km/hour faster than rider1"
   ]
  },
  {
   "cell_type": "markdown",
   "metadata": {},
   "source": [
    "## Work out the time taken for each lap in the race by each rider\n",
    "# rider1_time = 106.38/18 = 5.91mins/lap\n",
    "# rider2_time = 106.38/20 = 5.32 mins/lap"
   ]
  },
  {
   "cell_type": "markdown",
   "metadata": {
    "collapsed": true
   },
   "source": [
    "# END"
   ]
  },
  {
   "cell_type": "code",
   "execution_count": null,
   "metadata": {
    "collapsed": true
   },
   "outputs": [],
   "source": []
  }
 ],
 "metadata": {
  "kernelspec": {
   "display_name": "Python 3",
   "language": "python",
   "name": "python3"
  },
  "language_info": {
   "codemirror_mode": {
    "name": "ipython",
    "version": 3
   },
   "file_extension": ".py",
   "mimetype": "text/x-python",
   "name": "python",
   "nbconvert_exporter": "python",
   "pygments_lexer": "ipython3",
   "version": "3.6.3"
  }
 },
 "nbformat": 4,
 "nbformat_minor": 2
}
